{
 "cells": [
  {
   "cell_type": "code",
   "execution_count": 9,
   "metadata": {},
   "outputs": [
    {
     "data": {
      "text/plain": [
       "[2016, 2015, 2017, 2014, 2010, 2005, 1998, 2013, 2009, 2006]"
      ]
     },
     "execution_count": 9,
     "metadata": {},
     "output_type": "execute_result"
    }
   ],
   "source": [
    "import climate as cm\n",
    "climatedata = cm.loadclimate()\n",
    "globaltempbymonth = cm.loadglobaltemp()\n",
    "\n",
    "hottestyears = cm.highestyears(climatedata, 'avgtemp')\n",
    "hottestyears"
   ]
  },
  {
   "cell_type": "code",
   "execution_count": 10,
   "metadata": {},
   "outputs": [
    {
     "data": {
      "text/plain": [
       "[2015, 2014, 2017, 2013, 2012, 2016, 2011, 2010, 2009, 2008]"
      ]
     },
     "execution_count": 10,
     "metadata": {},
     "output_type": "execute_result"
    }
   ],
   "source": [
    "climatedata['totalcarbon'] = climatedata['fossilFuelAndIndustry'] + climatedata['land_useChangeEmissions']\n",
    "highestcarbon = cm.highestyears(climatedata, 'totalcarbon')\n",
    "highestcarbon"
   ]
  },
  {
   "cell_type": "code",
   "execution_count": 12,
   "metadata": {},
   "outputs": [
    {
     "data": {
      "text/plain": [
       "[2016, 2015, 2017, 2014, 2010, 2013, 2009]"
      ]
     },
     "execution_count": 12,
     "metadata": {},
     "output_type": "execute_result"
    }
   ],
   "source": [
    "cm.intersection(hottestyears, highestcarbon)#7 of 10 hottest years were also top 10 in carbon emmisions"
   ]
  },
  {
   "cell_type": "code",
   "execution_count": 13,
   "metadata": {},
   "outputs": [
    {
     "data": {
      "text/plain": [
       "[2015, 2014, 2017, 2013, 2016, 2010, 2009]"
      ]
     },
     "execution_count": 13,
     "metadata": {},
     "output_type": "execute_result"
    }
   ],
   "source": [
    "cm.intersection(highestcarbon, hottestyears)#inverese is also true"
   ]
  },
  {
   "cell_type": "code",
   "execution_count": 17,
   "metadata": {},
   "outputs": [
    {
     "data": {
      "text/plain": [
       "['2016/02',\n",
       " '2016/03',\n",
       " '2015/12',\n",
       " '2016/04',\n",
       " '2016/01',\n",
       " '2017/03',\n",
       " '2015/10',\n",
       " '2017/02',\n",
       " '2015/11',\n",
       " '2007/01',\n",
       " '2015/09',\n",
       " '2016/08',\n",
       " '1998/02',\n",
       " '2016/06',\n",
       " '2016/07',\n",
       " '2015/06',\n",
       " '2015/08',\n",
       " '2017/01',\n",
       " '2017/04',\n",
       " '2016/09']"
      ]
     },
     "execution_count": 17,
     "metadata": {},
     "output_type": "execute_result"
    }
   ],
   "source": [
    "hottestmonths = cm.highestyears(globaltempbymonth, 'avgtemp', 20, 'date')\n",
    "hottestmonths"
   ]
  },
  {
   "cell_type": "code",
   "execution_count": 24,
   "metadata": {},
   "outputs": [
    {
     "data": {
      "text/plain": [
       "19"
      ]
     },
     "execution_count": 24,
     "metadata": {},
     "output_type": "execute_result"
    }
   ],
   "source": [
    "hottestmonthyears = cm.extractyears(hottestmonths)\n",
    "\n",
    "len(cm.intersection(hottestmonthyears, hottestyears))#19 of 20 hottest months are in a top 10 hottest year"
   ]
  },
  {
   "cell_type": "code",
   "execution_count": 28,
   "metadata": {},
   "outputs": [],
   "source": [
    "records = cm.createrecords(climatedata)\n",
    "cm.writetoexcel([climatedata, globaltempbymonth, records], ['climate', 'Monthly Temps', 'records'])"
   ]
  }
 ],
 "metadata": {
  "kernelspec": {
   "display_name": "Python 3",
   "language": "python",
   "name": "python3"
  },
  "language_info": {
   "codemirror_mode": {
    "name": "ipython",
    "version": 3
   },
   "file_extension": ".py",
   "mimetype": "text/x-python",
   "name": "python",
   "nbconvert_exporter": "python",
   "pygments_lexer": "ipython3",
   "version": "3.7.4"
  }
 },
 "nbformat": 4,
 "nbformat_minor": 2
}
